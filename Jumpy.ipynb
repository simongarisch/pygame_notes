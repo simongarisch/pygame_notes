{
 "cells": [
  {
   "cell_type": "markdown",
   "metadata": {},
   "source": [
    "## The game class"
   ]
  },
  {
   "cell_type": "code",
   "execution_count": 2,
   "metadata": {},
   "outputs": [],
   "source": [
    "import os\n",
    "import pygame as pg\n",
    "\n",
    "WHITE = (255, 255, 255)\n",
    "LIGHTBLUE = (0, 155, 155)\n",
    "BGCOLOR = LIGHTBLUE\n",
    "\n",
    "TITLE = \"Jumpy!\"\n",
    "WIDTH = 480\n",
    "HEIGHT = 600\n",
    "FPS = 60\n",
    "FONT_NAME = \"arial\"\n",
    "\n",
    "\n",
    "class Game:\n",
    "    def __init__(self):\n",
    "        pg.init()\n",
    "        pg.mixer.init()\n",
    "        self.screen = pg.display.set_mode((WIDTH, HEIGHT))\n",
    "        pg.display.set_caption(TITLE)\n",
    "        self.clock = pg.time.Clock()\n",
    "        self.running = True\n",
    "        self.font_name = pg.font.match_font(FONT_NAME)\n",
    "\n",
    "    def show_start_screen(self):\n",
    "        pg.mixer.music.load(os.path.join(\"sounds\", \"Yippee.ogg\"))\n",
    "        pg.mixer.music.play(loops=-1)\n",
    "        self.screen.fill(BGCOLOR)\n",
    "        self.draw_text(TITLE, 48, WHITE, WIDTH / 2, HEIGHT / 4)\n",
    "        self.draw_text(\"Arrows to move, Space to jump\", 22, WHITE, WIDTH / 2, HEIGHT / 2)\n",
    "        self.draw_text(\"Press a key to play\", 22, WHITE, WIDTH / 2, HEIGHT * 3 / 4)\n",
    "        pg.display.flip()\n",
    "        self.wait_for_key()\n",
    "        pg.mixer.music.fadeout(500)\n",
    "\n",
    "    def draw_text(self, text, size, color, x, y):\n",
    "        font = pg.font.Font(self.font_name, size)\n",
    "        text_surface = font.render(text, True, color)\n",
    "        text_rect = text_surface.get_rect()\n",
    "        text_rect.midtop = (x, y)\n",
    "        self.screen.blit(text_surface, text_rect)\n",
    "\n",
    "    def wait_for_key(self):\n",
    "        waiting = True\n",
    "        while waiting:\n",
    "            self.clock.tick(FPS)\n",
    "            for event in pg.event.get():\n",
    "                if event.type == pg.QUIT:\n",
    "                    waiting = False\n",
    "                    self.running = False\n",
    "                if event.type == pg.KEYUP:\n",
    "                    waiting = False\n",
    "\n",
    "game = Game()\n",
    "game.show_start_screen()\n",
    "pg.quit()"
   ]
  },
  {
   "cell_type": "code",
   "execution_count": null,
   "metadata": {},
   "outputs": [],
   "source": []
  }
 ],
 "metadata": {
  "@webio": {
   "lastCommId": null,
   "lastKernelId": null
  },
  "kernelspec": {
   "display_name": "py36",
   "language": "python",
   "name": "py36"
  },
  "language_info": {
   "codemirror_mode": {
    "name": "ipython",
    "version": 3
   },
   "file_extension": ".py",
   "mimetype": "text/x-python",
   "name": "python",
   "nbconvert_exporter": "python",
   "pygments_lexer": "ipython3",
   "version": "3.6.6"
  }
 },
 "nbformat": 4,
 "nbformat_minor": 2
}
