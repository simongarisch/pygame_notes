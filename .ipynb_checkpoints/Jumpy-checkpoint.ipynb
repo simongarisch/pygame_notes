{
 "cells": [
  {
   "cell_type": "markdown",
   "metadata": {},
   "source": [
    "## Drawing text on the screen\n",
    "Perhaps better to break out draw_text as a utility function.\n",
    "We can likely do the same with wait_for_key.\n",
    "\n",
    "I imagine that the different screens: Start, Play, GameOver, Start ... can be implemented as a state pattern."
   ]
  },
  {
   "cell_type": "code",
   "execution_count": 1,
   "metadata": {},
   "outputs": [
    {
     "name": "stdout",
     "output_type": "stream",
     "text": [
      "pygame 1.9.6\n",
      "Hello from the pygame community. https://www.pygame.org/contribute.html\n"
     ]
    }
   ],
   "source": [
    "import random\n",
    "import pygame\n",
    "\n",
    "WIDTH = 480\n",
    "HEIGHT = 600\n",
    "WHITE = (255, 255, 255)\n",
    "LIGHTBLUE = (0, 155, 155)\n",
    "\n",
    "pygame.init()\n",
    "screen = pygame.display.set_mode((WIDTH, HEIGHT))\n",
    "pygame.display.set_caption(\"Drawing text on the screen\")\n",
    "running = True\n",
    "\n",
    "\n",
    "def draw_text(\n",
    "    screen,\n",
    "    text,\n",
    "    x,\n",
    "    y,\n",
    "    *,\n",
    "    size=22,\n",
    "    color=LIGHTBLUE,\n",
    "    font_name=pygame.font.match_font(\"arial\")\n",
    "):\n",
    "    font = pygame.font.Font(font_name, size)\n",
    "    text_surface = font.render(text, True, color)\n",
    "    text_rect = text_surface.get_rect()\n",
    "    text_rect.midtop = (x, y)\n",
    "    screen.blit(text_surface, text_rect)\n",
    "\n",
    "\n",
    "screen.fill(WHITE)\n",
    "words = [\"random\", \"text\", \"pygame\"]\n",
    "for _ in range(50):\n",
    "    x = random.uniform(0, WIDTH)\n",
    "    y = random.uniform(0, HEIGHT)\n",
    "    text = random.choice(words)\n",
    "    draw_text(screen, text, x, y)\n",
    "\n",
    "while running:\n",
    "    for event in pygame.event.get():\n",
    "        if event.type == pygame.QUIT:\n",
    "            running = False\n",
    "    pygame.display.update()\n",
    "\n",
    "pygame.quit()"
   ]
  },
  {
   "cell_type": "markdown",
   "metadata": {},
   "source": [
    "## Waiting for a keypress"
   ]
  },
  {
   "cell_type": "code",
   "execution_count": 2,
   "metadata": {},
   "outputs": [],
   "source": [
    "import random\n",
    "import pygame\n",
    "\n",
    "WIDTH = 480\n",
    "HEIGHT = 600\n",
    "FPS = 60\n",
    "\n",
    "pygame.init()\n",
    "screen = pygame.display.set_mode((WIDTH, HEIGHT))\n",
    "pygame.display.set_caption(\"Wait for key\")\n",
    "clock = pygame.time.Clock()\n",
    "running = True\n",
    "\n",
    "\n",
    "def wait_for_key(clock=None):\n",
    "    while True:\n",
    "        if clock is not None:\n",
    "            clock.tick(FPS)\n",
    "        for event in pygame.event.get():\n",
    "            if event.type in [pygame.QUIT, pygame.KEYUP]:\n",
    "                return event\n",
    "\n",
    "\n",
    "while running:\n",
    "    event = wait_for_key(clock)\n",
    "    if event.type == pygame.QUIT:\n",
    "        running = False\n",
    "\n",
    "pygame.quit()"
   ]
  },
  {
   "cell_type": "markdown",
   "metadata": {},
   "source": [
    "## The game class"
   ]
  },
  {
   "cell_type": "code",
   "execution_count": 3,
   "metadata": {},
   "outputs": [],
   "source": [
    "import os\n",
    "import pygame\n",
    "\n",
    "WHITE = (255, 255, 255)\n",
    "LIGHTBLUE = (0, 155, 155)\n",
    "BGCOLOR = LIGHTBLUE\n",
    "\n",
    "TITLE = \"Jumpy!\"\n",
    "WIDTH = 480\n",
    "HEIGHT = 600\n",
    "FPS = 60\n",
    "FONT_NAME = \"arial\"\n",
    "\n",
    "\n",
    "class Game:\n",
    "    def __init__(self):\n",
    "        pygame.init()\n",
    "        pygame.mixer.init()\n",
    "        self.screen = pygame.display.set_mode((WIDTH, HEIGHT))\n",
    "        pygame.display.set_caption(TITLE)\n",
    "        self.clock = pygame.time.Clock()\n",
    "        self.running = True\n",
    "        self.font_name = pygame.font.match_font(FONT_NAME)\n",
    "\n",
    "    def show_start_screen(self):\n",
    "        pygame.mixer.music.load(os.path.join(\"sounds\", \"Yippee.ogg\"))\n",
    "        pygame.mixer.music.play(loops=-1)\n",
    "        self.screen.fill(BGCOLOR)\n",
    "\n",
    "        draw_text(\n",
    "            self.screen,\n",
    "            TITLE, WIDTH / 2,\n",
    "            HEIGHT / 4,\n",
    "            size=48,\n",
    "            color=WHITE\n",
    "        )\n",
    "\n",
    "        draw_text(\n",
    "            self.screen,\n",
    "            \"Arrows to move, Space to jump\",\n",
    "            WIDTH / 2,\n",
    "            HEIGHT / 2,\n",
    "            size=22,\n",
    "            color=WHITE,\n",
    "        )\n",
    "\n",
    "        draw_text(\n",
    "            self.screen,\n",
    "            \"Press a key to play\",\n",
    "            WIDTH / 2,\n",
    "            HEIGHT * 3 / 4,\n",
    "            size=22,\n",
    "            color=WHITE,\n",
    "        )\n",
    "\n",
    "        pygame.display.flip()\n",
    "        event = wait_for_key(self.clock)\n",
    "        if event.type == pygame.QUIT:\n",
    "            self.running = False\n",
    "        pygame.mixer.music.fadeout(500)\n",
    "\n",
    "\n",
    "game = Game()\n",
    "game.show_start_screen()\n",
    "pygame.quit()"
   ]
  },
  {
   "cell_type": "code",
   "execution_count": null,
   "metadata": {},
   "outputs": [],
   "source": []
  }
 ],
 "metadata": {
  "@webio": {
   "lastCommId": null,
   "lastKernelId": null
  },
  "kernelspec": {
   "display_name": "py36",
   "language": "python",
   "name": "py36"
  },
  "language_info": {
   "codemirror_mode": {
    "name": "ipython",
    "version": 3
   },
   "file_extension": ".py",
   "mimetype": "text/x-python",
   "name": "python",
   "nbconvert_exporter": "python",
   "pygments_lexer": "ipython3",
   "version": "3.6.6"
  }
 },
 "nbformat": 4,
 "nbformat_minor": 2
}
