{
 "cells": [
  {
   "cell_type": "markdown",
   "metadata": {},
   "source": [
    "## Drawing text on the screen\n",
    "Perhaps better to break out draw_text as a utility function.\n",
    "We can likely do the same with wait_for_key.\n",
    "\n",
    "I imagine that the different screens: Start, Play, GameOver, Start ... can be implemented as a state pattern."
   ]
  },
  {
   "cell_type": "code",
   "execution_count": 1,
   "metadata": {},
   "outputs": [
    {
     "name": "stdout",
     "output_type": "stream",
     "text": [
      "pygame 1.9.6\n",
      "Hello from the pygame community. https://www.pygame.org/contribute.html\n"
     ]
    }
   ],
   "source": [
    "import random\n",
    "import pygame\n",
    "\n",
    "WIDTH = 480\n",
    "HEIGHT = 600\n",
    "WHITE = (255, 255, 255)\n",
    "LIGHTBLUE = (0, 155, 155)\n",
    "\n",
    "pygame.init()\n",
    "screen = pygame.display.set_mode((WIDTH, HEIGHT))\n",
    "pygame.display.set_caption(\"Drawing text on the screen\")\n",
    "running = True\n",
    "\n",
    "\n",
    "def draw_text(\n",
    "    screen,\n",
    "    text,\n",
    "    x,\n",
    "    y,\n",
    "    *,\n",
    "    size=22,\n",
    "    color=LIGHTBLUE,\n",
    "    font_name=pygame.font.match_font(\"arial\")\n",
    "):\n",
    "    font = pygame.font.Font(font_name, size)\n",
    "    text_surface = font.render(text, True, color)\n",
    "    text_rect = text_surface.get_rect()\n",
    "    text_rect.midtop = (x, y)\n",
    "    screen.blit(text_surface, text_rect)\n",
    "\n",
    "\n",
    "screen.fill(WHITE)\n",
    "words = [\"random\", \"text\", \"pygame\"]\n",
    "for _ in range(50):\n",
    "    x = random.uniform(0, WIDTH)\n",
    "    y = random.uniform(0, HEIGHT)\n",
    "    text = random.choice(words)\n",
    "    draw_text(screen, text, x, y)\n",
    "\n",
    "while running:\n",
    "    for event in pygame.event.get():\n",
    "        if event.type == pygame.QUIT:\n",
    "            running = False\n",
    "    pygame.display.update()\n",
    "\n",
    "pygame.quit()"
   ]
  },
  {
   "cell_type": "markdown",
   "metadata": {},
   "source": [
    "## Waiting for a keypress"
   ]
  },
  {
   "cell_type": "code",
   "execution_count": 3,
   "metadata": {},
   "outputs": [],
   "source": [
    "import random\n",
    "import pygame\n",
    "\n",
    "WIDTH = 480\n",
    "HEIGHT = 600\n",
    "FPS = 60\n",
    "\n",
    "pygame.init()\n",
    "screen = pygame.display.set_mode((WIDTH, HEIGHT))\n",
    "pygame.display.set_caption(\"Wait for key\")\n",
    "clock = pygame.time.Clock()\n",
    "running = True\n",
    "\n",
    "\n",
    "def wait_for_key(clock=None):\n",
    "    while True:\n",
    "        if clock is not None:\n",
    "            clock.tick(FPS)\n",
    "        for event in pygame.event.get():\n",
    "            if event.type in [pygame.QUIT, pygame.KEYUP]:\n",
    "                return event\n",
    "\n",
    "\n",
    "while running:\n",
    "    event = wait_for_key(clock)\n",
    "    if event.type == pygame.QUIT:\n",
    "        running = False\n",
    "\n",
    "pygame.quit()"
   ]
  },
  {
   "cell_type": "markdown",
   "metadata": {},
   "source": [
    "## The game class"
   ]
  },
  {
   "cell_type": "code",
   "execution_count": 4,
   "metadata": {},
   "outputs": [],
   "source": [
    "import os\n",
    "import pygame\n",
    "\n",
    "WHITE = (255, 255, 255)\n",
    "LIGHTBLUE = (0, 155, 155)\n",
    "BGCOLOR = LIGHTBLUE\n",
    "\n",
    "TITLE = \"Jumpy!\"\n",
    "WIDTH = 480\n",
    "HEIGHT = 600\n",
    "FPS = 60\n",
    "FONT_NAME = \"arial\"\n",
    "\n",
    "\n",
    "class Game:\n",
    "    def __init__(self):\n",
    "        pygame.init()\n",
    "        pygame.mixer.init()\n",
    "        self.screen = pygame.display.set_mode((WIDTH, HEIGHT))\n",
    "        pygame.display.set_caption(TITLE)\n",
    "        self.clock = pygame.time.Clock()\n",
    "        self.running = True\n",
    "        self.font_name = pygame.font.match_font(FONT_NAME)\n",
    "\n",
    "    def show_start_screen(self):\n",
    "        pygame.mixer.music.load(os.path.join(\"sounds\", \"Yippee.ogg\"))\n",
    "        pygame.mixer.music.play(loops=-1)\n",
    "        self.screen.fill(BGCOLOR)\n",
    "\n",
    "        draw_text(\n",
    "            self.screen,\n",
    "            TITLE,\n",
    "            WIDTH / 2,\n",
    "            HEIGHT / 4,\n",
    "            size=48,\n",
    "            color=WHITE\n",
    "        )\n",
    "\n",
    "        draw_text(\n",
    "            self.screen,\n",
    "            \"Arrows to move, Space to jump\",\n",
    "            WIDTH / 2,\n",
    "            HEIGHT / 2,\n",
    "            size=22,\n",
    "            color=WHITE,\n",
    "        )\n",
    "\n",
    "        draw_text(\n",
    "            self.screen,\n",
    "            \"Press a key to play\",\n",
    "            WIDTH / 2,\n",
    "            HEIGHT * 3 / 4,\n",
    "            size=22,\n",
    "            color=WHITE,\n",
    "        )\n",
    "\n",
    "        pygame.display.flip()\n",
    "        event = wait_for_key(self.clock)\n",
    "        if event.type == pygame.QUIT:\n",
    "            self.running = False\n",
    "        pygame.mixer.music.fadeout(500)\n",
    "\n",
    "\n",
    "game = Game()\n",
    "game.show_start_screen()\n",
    "pygame.quit()"
   ]
  },
  {
   "cell_type": "markdown",
   "metadata": {},
   "source": [
    "## Loading sounds"
   ]
  },
  {
   "cell_type": "code",
   "execution_count": 5,
   "metadata": {},
   "outputs": [],
   "source": [
    "import os\n",
    "import pygame\n",
    "\n",
    "pygame.init()\n",
    "\n",
    "\n",
    "class Sounds:\n",
    "    def __init__(self, folder):\n",
    "        self._folder = folder\n",
    "        self._collect_sounds()\n",
    "\n",
    "    @property\n",
    "    def folder(self):\n",
    "        return self._folder\n",
    "\n",
    "    @property\n",
    "    def names(self):\n",
    "        return list(self._names.keys())\n",
    "\n",
    "    def _collect_sounds(self):\n",
    "        files = os.listdir(self.folder)\n",
    "\n",
    "        self._names = {}\n",
    "        for file_name in files:\n",
    "            name = file_name[: file_name.rfind(\".\")]\n",
    "            sound = pygame.mixer.Sound(os.path.join(self.folder, file_name))\n",
    "            self._names[name] = sound\n",
    "\n",
    "    def play(self, name):\n",
    "        self._names[name].play()\n"
   ]
  },
  {
   "cell_type": "code",
   "execution_count": 6,
   "metadata": {},
   "outputs": [
    {
     "data": {
      "text/plain": [
       "['Boost16', 'Happy Tune', 'Jump33', 'Jump40', 'Yippee']"
      ]
     },
     "execution_count": 6,
     "metadata": {},
     "output_type": "execute_result"
    }
   ],
   "source": [
    "sounds = Sounds(\"sounds\")\n",
    "sounds.names"
   ]
  },
  {
   "cell_type": "code",
   "execution_count": 7,
   "metadata": {},
   "outputs": [
    {
     "data": {
      "text/plain": [
       "{'Boost16': <Sound at 0x2409358cd78>,\n",
       " 'Happy Tune': <Sound at 0x24091f11440>,\n",
       " 'Jump33': <Sound at 0x2409488e8a0>,\n",
       " 'Jump40': <Sound at 0x2409488ea58>,\n",
       " 'Yippee': <Sound at 0x2409488e850>}"
      ]
     },
     "execution_count": 7,
     "metadata": {},
     "output_type": "execute_result"
    }
   ],
   "source": [
    "sounds._names"
   ]
  },
  {
   "cell_type": "code",
   "execution_count": 8,
   "metadata": {},
   "outputs": [],
   "source": [
    "import random\n",
    "import pygame\n",
    "\n",
    "WIDTH, HEIGHT = 400, 200\n",
    "\n",
    "pygame.init()\n",
    "pygame.mixer.init()\n",
    "screen = pygame.display.set_mode((WIDTH, HEIGHT))\n",
    "pygame.display.set_caption(\"Click mouse to play sound\")\n",
    "sounds = Sounds(\"sounds\")\n",
    "running = True\n",
    "\n",
    "while running:\n",
    "    for event in pygame.event.get():\n",
    "        if event.type == pygame.MOUSEBUTTONDOWN:\n",
    "            pygame.mixer.music.fadeout(0)\n",
    "            sound = random.choice(sounds.names)\n",
    "            sounds.play(sound)\n",
    "        \n",
    "        if event.type == pygame.QUIT:\n",
    "            running = False\n",
    "\n",
    "pygame.quit()"
   ]
  },
  {
   "cell_type": "markdown",
   "metadata": {},
   "source": [
    "It's probably best to separate out the event sounds from constant background music..."
   ]
  },
  {
   "cell_type": "markdown",
   "metadata": {},
   "source": [
    "## Sprites\n",
    "We can create a sprite group..."
   ]
  },
  {
   "cell_type": "code",
   "execution_count": 12,
   "metadata": {},
   "outputs": [
    {
     "data": {
      "text/plain": [
       "<Group(0 sprites)>"
      ]
     },
     "execution_count": 12,
     "metadata": {},
     "output_type": "execute_result"
    }
   ],
   "source": [
    "import pygame\n",
    "\n",
    "clouds_group = pygame.sprite.Group()\n",
    "clouds_group"
   ]
  },
  {
   "cell_type": "markdown",
   "metadata": {},
   "source": [
    "And add sprites to this group..."
   ]
  },
  {
   "cell_type": "code",
   "execution_count": 13,
   "metadata": {},
   "outputs": [
    {
     "data": {
      "text/plain": [
       "[<Cloud sprite(in 1 groups)>,\n",
       " <Cloud sprite(in 1 groups)>,\n",
       " <Cloud sprite(in 1 groups)>,\n",
       " <Cloud sprite(in 1 groups)>,\n",
       " <Cloud sprite(in 1 groups)>]"
      ]
     },
     "execution_count": 13,
     "metadata": {},
     "output_type": "execute_result"
    }
   ],
   "source": [
    "class Cloud(pygame.sprite.Sprite):\n",
    "    def __init__(self):\n",
    "        super().__init__(clouds_group)\n",
    "\n",
    "[Cloud() for _ in range(5)]"
   ]
  },
  {
   "cell_type": "code",
   "execution_count": 14,
   "metadata": {},
   "outputs": [
    {
     "data": {
      "text/plain": [
       "<Group(5 sprites)>"
      ]
     },
     "execution_count": 14,
     "metadata": {},
     "output_type": "execute_result"
    }
   ],
   "source": [
    "clouds_group"
   ]
  },
  {
   "cell_type": "markdown",
   "metadata": {},
   "source": [
    "If we were to expand of the Cloud class."
   ]
  },
  {
   "cell_type": "code",
   "execution_count": 28,
   "metadata": {},
   "outputs": [],
   "source": [
    "import os\n",
    "import random\n",
    "import pygame\n",
    "\n",
    "WIDTH = 480\n",
    "HEIGHT = 600\n",
    "IMAGE_DIR = os.path.join(\".\", \"images\")\n",
    "\n",
    "\n",
    "class Cloud(pygame.sprite.Sprite):\n",
    "    clouds_group = pygame.sprite.Group()\n",
    "    clouds_images = [\n",
    "        pygame.image.load(os.path.join(IMAGE_DIR, image))\n",
    "        for image in os.listdir(IMAGE_DIR)\n",
    "        if image.startswith(\"cloud\")\n",
    "    ]\n",
    "\n",
    "    def __init__(self):\n",
    "        super().__init__(self.clouds_group)\n",
    "        self.image = random.choice(cloud_images)\n",
    "        self.rect = self.image.get_rect()\n",
    "        self.rect.x = random.randrange(WIDTH - self.rect.width)\n",
    "        self.rect.y = random.randrange(-500, -50)\n",
    "\n",
    "    def update(self):\n",
    "        if self.rect.top > HEIGHT:\n",
    "            self.kill()\n"
   ]
  },
  {
   "cell_type": "code",
   "execution_count": 29,
   "metadata": {},
   "outputs": [
    {
     "data": {
      "text/plain": [
       "<Group(0 sprites)>"
      ]
     },
     "execution_count": 29,
     "metadata": {},
     "output_type": "execute_result"
    }
   ],
   "source": [
    "Cloud.clouds_group"
   ]
  },
  {
   "cell_type": "code",
   "execution_count": 30,
   "metadata": {},
   "outputs": [
    {
     "data": {
      "text/plain": [
       "[<Surface(128x71x32 SW)>, <Surface(129x71x32 SW)>, <Surface(129x71x32 SW)>]"
      ]
     },
     "execution_count": 30,
     "metadata": {},
     "output_type": "execute_result"
    }
   ],
   "source": [
    "Cloud.clouds_images"
   ]
  },
  {
   "cell_type": "code",
   "execution_count": null,
   "metadata": {},
   "outputs": [],
   "source": []
  },
  {
   "cell_type": "code",
   "execution_count": null,
   "metadata": {},
   "outputs": [],
   "source": []
  }
 ],
 "metadata": {
  "@webio": {
   "lastCommId": null,
   "lastKernelId": null
  },
  "kernelspec": {
   "display_name": "py36",
   "language": "python",
   "name": "py36"
  },
  "language_info": {
   "codemirror_mode": {
    "name": "ipython",
    "version": 3
   },
   "file_extension": ".py",
   "mimetype": "text/x-python",
   "name": "python",
   "nbconvert_exporter": "python",
   "pygments_lexer": "ipython3",
   "version": "3.6.6"
  }
 },
 "nbformat": 4,
 "nbformat_minor": 2
}
